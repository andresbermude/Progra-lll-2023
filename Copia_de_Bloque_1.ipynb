{
  "nbformat": 4,
  "nbformat_minor": 0,
  "metadata": {
    "colab": {
      "provenance": [],
      "gpuType": "T4",
      "include_colab_link": true
    },
    "kernelspec": {
      "name": "python3",
      "display_name": "Python 3"
    },
    "language_info": {
      "name": "python"
    },
    "accelerator": "GPU"
  },
  "cells": [
    {
      "cell_type": "markdown",
      "metadata": {
        "id": "view-in-github",
        "colab_type": "text"
      },
      "source": [
        "<a href=\"https://colab.research.google.com/github/andresbermude/Progra-lll-2023/blob/main/Copia_de_Bloque_1.ipynb\" target=\"_parent\"><img src=\"https://colab.research.google.com/assets/colab-badge.svg\" alt=\"Open In Colab\"/></a>"
      ]
    },
    {
      "cell_type": "markdown",
      "source": [
        "Introduccion a python\n",
        "\n",
        "Declaracion de variables"
      ],
      "metadata": {
        "id": "9mqSuaafHqod"
      }
    },
    {
      "cell_type": "code",
      "execution_count": null,
      "metadata": {
        "colab": {
          "base_uri": "https://localhost:8080/"
        },
        "id": "Zuau46ZrGRDm",
        "outputId": "2eea5bc3-0ce8-40f7-af61-e86adb4f157f"
      },
      "outputs": [
        {
          "output_type": "stream",
          "name": "stdout",
          "text": [
            "Hola Teto\n"
          ]
        }
      ],
      "source": [
        "saludo = \"Hola Teto\"\n",
        "\n",
        "print(saludo)\n"
      ]
    },
    {
      "cell_type": "code",
      "source": [
        "num1 = 9\n",
        "num2 = 9\n",
        "\n",
        "resp = num1 * num2\n",
        "print(\"respuesta\", num1, \"*\", num2, \"=\", resp)"
      ],
      "metadata": {
        "colab": {
          "base_uri": "https://localhost:8080/"
        },
        "id": "BqvFKv4gI2AH",
        "outputId": "08a3d54c-d010-4354-8f23-169e76ca9a95"
      },
      "execution_count": null,
      "outputs": [
        {
          "output_type": "stream",
          "name": "stdout",
          "text": [
            "respuesta 9 * 9 = 81\n"
          ]
        }
      ]
    },
    {
      "cell_type": "code",
      "source": [
        "name = \"cecita\"\n",
        "saludo = \"Hola \" + name\n",
        "print(saludo)"
      ],
      "metadata": {
        "colab": {
          "base_uri": "https://localhost:8080/"
        },
        "id": "_sm9sUJsKQ5w",
        "outputId": "027c43a2-03f9-4690-b93b-a0d5c2f0024a"
      },
      "execution_count": null,
      "outputs": [
        {
          "output_type": "stream",
          "name": "stdout",
          "text": [
            "Hola cecita\n"
          ]
        }
      ]
    },
    {
      "cell_type": "code",
      "source": [
        "nombre = input(\"Dime tu nombre: \")\n",
        "edad = input(\"tu edad \")\n",
        "saludo = \"hola que tal \" + nombre + \", tu edad: \"+ edad\n",
        "print(saludo)"
      ],
      "metadata": {
        "colab": {
          "base_uri": "https://localhost:8080/"
        },
        "id": "twmcnFLDLNVF",
        "outputId": "e05ed802-8d24-442f-d8cb-d4ce58f4c54f"
      },
      "execution_count": null,
      "outputs": [
        {
          "output_type": "stream",
          "name": "stdout",
          "text": [
            "Dime tu nombre: Teto\n",
            "tu edad 5 años\n",
            "hola que tal Teto, tu edad: 5 años\n"
          ]
        }
      ]
    },
    {
      "cell_type": "code",
      "source": [
        "\n",
        "num1 = float(input(\"ingresa el primer numero:\"))\n",
        "num2 = float(input(\"El segundo numero:\"))\n",
        "\n",
        "resp = num1 * num2\n",
        "print(\"respuesta\", num1, \"*\", num2, \"=\", resp)"
      ],
      "metadata": {
        "colab": {
          "base_uri": "https://localhost:8080/"
        },
        "id": "TO0yRowVMuB9",
        "outputId": "f7fd038c-1efb-4650-b47e-e9632bfb2e64"
      },
      "execution_count": null,
      "outputs": [
        {
          "output_type": "stream",
          "name": "stdout",
          "text": [
            "ingresa el primer numero:2\n",
            "El segundo numero:8\n",
            "respuesta 2.0 * 8.0 = 16.0\n"
          ]
        }
      ]
    },
    {
      "cell_type": "markdown",
      "source": [
        "Tipos de datos"
      ],
      "metadata": {
        "id": "UbDiCTpVdDbJ"
      }
    },
    {
      "cell_type": "code",
      "source": [
        "num1 = 5 #variable de tipo entero.\n",
        "num2 = 4.9 #variable de tipo double, real, decimal.\n",
        "print(\"Los valores: Num 1: \", num1, \" Num 2: \", num2)\n",
        "\n",
        "#num1 = 4.9\n",
        "print(\"Valor: Num 1: \", num1)"
      ],
      "metadata": {
        "id": "zmAAZM2_dFe0"
      },
      "execution_count": null,
      "outputs": []
    },
    {
      "cell_type": "code",
      "source": [
        "varLogica = False\n",
        "\n",
        "print(\"Variable Booleana: \", varLogica)"
      ],
      "metadata": {
        "id": "uM92DqjxdSVp"
      },
      "execution_count": null,
      "outputs": []
    },
    {
      "cell_type": "code",
      "source": [
        "nombre = \"Cecia Maritza\"\n",
        "print(\"Mi Nombre: \", nombre, \"Iniciales: \", nombre[0], nombre[5], \"Longitud: \", len(nombre) )\n",
        "print(\"Primer Nombre: \", nombre[0:5])\n",
        "print(\"Primer Nombre: \", nombre[:5])\n",
        "print(\"Apellido: \", nombre[5:len(nombre)])\n",
        "print(\"Apellid: \", nombre[5:])\n",
        "print(\"Apellido: \", nombre[-9:])\n"
      ],
      "metadata": {
        "id": "k0fz5d6bdnbj"
      },
      "execution_count": null,
      "outputs": []
    },
    {
      "cell_type": "code",
      "source": [
        "print(type(num1))\n",
        "print(type(num2))\n",
        "print(type(varLogica))\n",
        "print(type(nombre))"
      ],
      "metadata": {
        "id": "KX3tepGjeLQ3"
      },
      "execution_count": null,
      "outputs": []
    },
    {
      "cell_type": "code",
      "source": [
        "num1 = float(input(\"Num 1: \"))\n",
        "num2 = float(input(\"Num 2: \"))\n",
        "resp = num1 + num2\n",
        "print(\"La suma es: \", resp)"
      ],
      "metadata": {
        "id": "RH9j6upDeOVC"
      },
      "execution_count": null,
      "outputs": []
    },
    {
      "cell_type": "code",
      "source": [
        "def suma(num1, num2):\n",
        "  return num1 + num2"
      ],
      "metadata": {
        "id": "OUZRm1ineRjL"
      },
      "execution_count": null,
      "outputs": []
    },
    {
      "cell_type": "code",
      "source": [
        "num1 = float(input(\"Num 1: \"))\n",
        "num2 = float(input(\"N4.26um 2: \"))\n",
        "resp = suma(num1, num2)\n",
        "print(resp)"
      ],
      "metadata": {
        "id": "fswQ-2I7eUkP"
      },
      "execution_count": null,
      "outputs": []
    },
    {
      "cell_type": "markdown",
      "source": [
        "Funciones de usuario"
      ],
      "metadata": {
        "id": "edlc3n5KeZlm"
      }
    },
    {
      "cell_type": "markdown",
      "source": [
        "Convertir grados celsius a farenheit"
      ],
      "metadata": {
        "id": "VPN0vnKjXVuI"
      }
    },
    {
      "cell_type": "code",
      "source": [
        "def convertir_cf(C):\n",
        "  return 32 + C*9/5"
      ],
      "metadata": {
        "id": "jz6hl0G4XeGp"
      },
      "execution_count": null,
      "outputs": []
    },
    {
      "cell_type": "code",
      "source": [
        "c = float(input(\"Celsius: \"))\n",
        "print(\"F: \", convertir_cf(c))"
      ],
      "metadata": {
        "id": "sbqqmV1BXkLN"
      },
      "execution_count": null,
      "outputs": []
    },
    {
      "cell_type": "markdown",
      "source": [
        "Convertir de farenheit a Celsius\n",
        "convertir de {Celsius, Farenheit} a kelvin"
      ],
      "metadata": {
        "id": "vzf8Rr6lXoZq"
      }
    },
    {
      "cell_type": "code",
      "source": [
        "def convertir_fc(f):\n",
        "  return 32 + f*5/9"
      ],
      "metadata": {
        "id": "4DF-mGj8XsUS"
      },
      "execution_count": null,
      "outputs": []
    },
    {
      "cell_type": "code",
      "source": [
        "f = float(input(\"farenheit: \"))\n",
        "print(\"C: \", convertir_fc(f))"
      ],
      "metadata": {
        "id": "1ZYMWPQQXvr_"
      },
      "execution_count": null,
      "outputs": []
    },
    {
      "cell_type": "markdown",
      "source": [
        "calcular sueldo mensual"
      ],
      "metadata": {
        "id": "CalwjtDAX_qU"
      }
    },
    {
      "cell_type": "code",
      "source": [
        "def sueldo(numHrs, valorXhr):\n",
        "  sueldo = numHrs*valorXhr*30\n",
        "  if(numHrs>8):\n",
        "    sueldo += (numHrs-8)*valorXhr*2*30\n",
        "  #isss + afp = 3 + 6.25 = 9.25 = 100 - 9.25 = 90.75/100 = 0.9075\n",
        "  #sueldo = sueldo*0.9075\n",
        "  return sueldo"
      ],
      "metadata": {
        "id": "H5iz9nTAYPZm"
      },
      "execution_count": null,
      "outputs": []
    },
    {
      "cell_type": "code",
      "source": [
        "tabla_isr = [\n",
        "    [0.01, 472, 0, 0],\n",
        "    [472.01, 895.24, 0.1, 17.67],\n",
        "    [895.25, 2038.1, 0.2, 60.00],\n",
        "    [2038.11,9999999, 0.3, 288.57]\n",
        "]"
      ],
      "metadata": {
        "id": "-QzrLxrqYSkn"
      },
      "execution_count": null,
      "outputs": []
    },
    {
      "cell_type": "code",
      "source": [
        "def calcularIsr(sueldo, sueldoNeto):\n",
        "  impSr = 0\n",
        "  for tramo in tabla_isr:\n",
        "    if sueldo>tramo[0] and sueldo<=tramo[1]:\n",
        "      impSr = (sueldoNeto-tramo[0])*tramo[2] + tramo[3]\n",
        "  return impSr"
      ],
      "metadata": {
        "id": "3Oc-HDGbYcRv"
      },
      "execution_count": null,
      "outputs": []
    },
    {
      "cell_type": "code",
      "source": [
        "valorXhr = 4\n",
        "#isss = 3%\n",
        "#afp = 6.25%\n",
        "numHrs = float(input(\"Horas trabajadas: \"))\n",
        "s = sueldo(numHrs, valorXhr)\n",
        "isr = calcularIsr(s, s*0.9075)\n",
        "print( \"Sueldo: \", s, \"ISR: \", isr, s*0.9075-isr )"
      ],
      "metadata": {
        "id": "hHp3zV0_YeGk"
      },
      "execution_count": null,
      "outputs": []
    },
    {
      "cell_type": "markdown",
      "source": [
        "**FUNCIONES LAMBDA**\n",
        "* FUNCIONES PRECONTRUIDAS MAP, FILTER, FIND, REDUCE, ETC."
      ],
      "metadata": {
        "id": "FhFHaZ8YfIYm"
      }
    },
    {
      "cell_type": "markdown",
      "source": [
        "Lista"
      ],
      "metadata": {
        "id": "XqttRqrqZbp0"
      }
    },
    {
      "cell_type": "code",
      "source": [
        "data = [2,5,6,8,9]"
      ],
      "metadata": {
        "id": "Tn16E9rdZmwX"
      },
      "execution_count": null,
      "outputs": []
    },
    {
      "cell_type": "code",
      "source": [
        "resp = map(lambda n:n**3, data)\n",
        "print(list(resp))"
      ],
      "metadata": {
        "id": "8z9JGaTLZpPS"
      },
      "execution_count": null,
      "outputs": []
    },
    {
      "cell_type": "code",
      "source": [
        "f = map (lambda c:c*9/5 + 32, data)\n",
        "print( list(f) )"
      ],
      "metadata": {
        "id": "cDWr1WDWZrdg"
      },
      "execution_count": null,
      "outputs": []
    },
    {
      "cell_type": "code",
      "source": [
        "pares = filter(lambda n:n%2==0, data)\n",
        "print( list(pares) )"
      ],
      "metadata": {
        "id": "mXFmasqCZuHs"
      },
      "execution_count": null,
      "outputs": []
    },
    {
      "cell_type": "code",
      "source": [
        "impares = filter(lambda n:n%2!=0, data)\n",
        "print( list(impares) )"
      ],
      "metadata": {
        "id": "AHMFqFDyZwoK"
      },
      "execution_count": null,
      "outputs": []
    },
    {
      "cell_type": "markdown",
      "source": [
        "**TUPLAS**"
      ],
      "metadata": {
        "id": "QbfFO3jKfTt9"
      }
    },
    {
      "cell_type": "code",
      "source": [
        "semana = (\"domingo\", \"lunes\", \"martes\", \"miercoles\", \"jueves\", \"viernes\", \"sabado\")\n",
        "#semana[0] = \"otro\"\n",
        "print( semana.count(\"domingo\") ) #count cuenta el numero de veces que aparece un elemento en la tupla\n",
        "print( len(semana) )"
      ],
      "metadata": {
        "id": "GF88KrFSfUpc",
        "outputId": "72dc6da4-bdf4-4238-dac6-8e4e5ad301c0",
        "colab": {
          "base_uri": "https://localhost:8080/"
        }
      },
      "execution_count": null,
      "outputs": [
        {
          "output_type": "stream",
          "name": "stdout",
          "text": [
            "1\n",
            "7\n"
          ]
        }
      ]
    },
    {
      "cell_type": "markdown",
      "source": [
        "**LISTAS** => **Array**"
      ],
      "metadata": {
        "id": "UjVKwivSfdXI"
      }
    },
    {
      "cell_type": "code",
      "source": [
        "meses = [\"ene\", \"feb\", \"mar\", \"abr\", \"may\", \"jun\", \"jul\", \"ago\", \"sep\", \"oct\", \"nov\", \"dic\"]\n",
        "print( meses[-2:] ) #ultimos dos meses del año\n",
        "print( meses[:2] ) #primero dos meses del año\n",
        "\n",
        "meses[0] = \"enero\"\n",
        "\n",
        "print( meses )"
      ],
      "metadata": {
        "id": "lnR2Al_GfZtu"
      },
      "execution_count": null,
      "outputs": []
    },
    {
      "cell_type": "code",
      "source": [
        "materias = [ [\"Progra I\", [5,6,8], [8,7,9], [9,10,9] ], [\"Progra II\"] ]\n",
        "print( materias[1][0] )"
      ],
      "metadata": {
        "id": "mj5OFw0rfvcc"
      },
      "execution_count": null,
      "outputs": []
    },
    {
      "cell_type": "markdown",
      "source": [
        "**DICCIONARIOS** => **JSON**"
      ],
      "metadata": {
        "id": "fJZh-wewfznO"
      }
    },
    {
      "cell_type": "code",
      "source": [
        "materias = {\n",
        "    \"Progra I\": {\n",
        "        \"c1\": {\n",
        "          \"lab1\" : 5,\n",
        "          \"lab2\" : 6,\n",
        "          \"parcial\" : 8\n",
        "      },\n",
        "      \"c2\": {\n",
        "          \"lab1\" : 8,\n",
        "          \"lab2\" : 7,\n",
        "          \"parcial\" : 9\n",
        "      },\n",
        "      \"c3\": {\n",
        "          \"lab1\" : 9,\n",
        "          \"lab2\" : 10,\n",
        "          \"parcial\" : 9\n",
        "      }\n",
        "    },\n",
        "    \"Progra II\" :{\n",
        "\n",
        "    }\n",
        "}\n",
        "print( materias[\"Progra I\"][\"c1\"][\"lab1\"] )"
      ],
      "metadata": {
        "id": "akIZN_Nbf0R2"
      },
      "execution_count": null,
      "outputs": []
    },
    {
      "cell_type": "markdown",
      "source": [
        "Ciclos"
      ],
      "metadata": {
        "id": "ReLnR8yNZzLL"
      }
    },
    {
      "cell_type": "markdown",
      "source": [
        "* FOR"
      ],
      "metadata": {
        "id": "CH8YWsvKZ8QF"
      }
    },
    {
      "cell_type": "code",
      "source": [
        "for item in data:\n",
        "  print(item)"
      ],
      "metadata": {
        "id": "EFGYXLbUZ4h1"
      },
      "execution_count": null,
      "outputs": []
    },
    {
      "cell_type": "markdown",
      "source": [
        "* WHILE"
      ],
      "metadata": {
        "id": "Rhe3hD-NaIBb"
      }
    },
    {
      "cell_type": "code",
      "source": [
        "i=0\n",
        "n = len(data)\n",
        "while i<n:\n",
        "  print( data [i] )\n",
        "  i+=1"
      ],
      "metadata": {
        "id": "i8niTbwFaDzu"
      },
      "execution_count": null,
      "outputs": []
    },
    {
      "cell_type": "markdown",
      "source": [
        "Tablas de multiplicar"
      ],
      "metadata": {
        "id": "shf_R9VRaSeJ"
      }
    },
    {
      "cell_type": "code",
      "source": [
        "for f in range(1,11):\n",
        "\tmultiplicacion = 8 * f # multiplicación\n",
        "\tprint(f'8 x {f} = {multiplicacion}') # resultado"
      ],
      "metadata": {
        "id": "DI4NcXFWaXx8"
      },
      "execution_count": null,
      "outputs": []
    },
    {
      "cell_type": "code",
      "source": [
        "n = int(input(\"N tabla: \"))\n",
        "\n",
        "for i in range(1,11):\n",
        "  print( n, \"x\", i, \"=\", n*i)"
      ],
      "metadata": {
        "id": "JebVRMfTaeIg"
      },
      "execution_count": null,
      "outputs": []
    },
    {
      "cell_type": "markdown",
      "source": [
        "Escribir un programa que pida la nota de un examen (0-10), e imprima por pantalla la calificacion en formato: \"Suspenso\" si la nota es menor a 5 \"Aprobado\" si es entre 5 inclusive, y 7 sin incluir, \"Notable\" si esta entre 7 inclusive y 9 sin incluir, \"Sobresaliente\" si esta entre 9 inclusive y 10 sin incluir, y\"Honorable\" si es 10"
      ],
      "metadata": {
        "id": "bdOXRb8LaxUX"
      }
    },
    {
      "cell_type": "code",
      "source": [
        "def obtener_calificacion(nota):\n",
        "    if nota < 5:\n",
        "        return \"Reprobo\"\n",
        "    elif 5 <= nota < 7:\n",
        "\n",
        "        return \"Bien\"\n",
        "    elif 7 <= nota < 9:\n",
        "\n",
        "        return \"Muy Bien\"\n",
        "    elif 9 <= nota < 10:\n",
        "\n",
        "        return \"Muy bien\"\n",
        "    elif nota == 10:\n",
        "\n",
        "        return \"Exelente\"\n",
        "    else:\n",
        "        return \"Nota inválida\"\n",
        "\n",
        "try:\n",
        "    nota = float(input(\"Ingrese la nota del examen (0-10): \"))\n",
        "    if 0 <= nota <= 10:\n",
        "\n",
        "        calificacion = obtener_calificacion(nota)\n",
        "        print(f\"Calificación: {calificacion}\")\n",
        "\n",
        "    else:\n",
        "        print(\"Por favor, ingrese una nota válida entre 0 y 10.\")\n",
        "\n",
        "except ValueError:\n",
        "    print(\"Por favor, ingrese una nota válida numérica.\")"
      ],
      "metadata": {
        "id": "XvRQ1lMxayoT"
      },
      "execution_count": null,
      "outputs": []
    },
    {
      "cell_type": "markdown",
      "source": [
        "Escriba un programa que muestre la secuencia fibonacci"
      ],
      "metadata": {
        "id": "ccNnekCna6zz"
      }
    },
    {
      "cell_type": "code",
      "source": [
        "limit = int(input(\"Limit: \"))\n",
        "a=0\n",
        "b=1\n",
        "c=0\n",
        "while c<limit:\n",
        "  c=a+b\n",
        "  print(a, \"+\",b,\"=\", c)\n",
        "  b=a\n",
        "  a=c"
      ],
      "metadata": {
        "id": "KnQWtDTHa7qe"
      },
      "execution_count": null,
      "outputs": []
    },
    {
      "cell_type": "markdown",
      "source": [
        "Tablas de multiplicar"
      ],
      "metadata": {
        "id": "5xzhKp6Sjt8W"
      }
    },
    {
      "cell_type": "code",
      "source": [
        "for f in range(1,11):\n",
        "\tmultiplicacion = 8 * f # multiplicación\n",
        "\tprint(f'8 x {f} = {multiplicacion}') # resultado"
      ],
      "metadata": {
        "id": "dLKndaK-jxSN"
      },
      "execution_count": null,
      "outputs": []
    },
    {
      "cell_type": "code",
      "source": [
        "n = int(input(\"N tabla: \"))\n",
        "\n",
        "for i in range(1,11):\n",
        "  print( n, \"x\", i, \"=\", n*i)"
      ],
      "metadata": {
        "id": "SbBLBviWkAOi"
      },
      "execution_count": null,
      "outputs": []
    },
    {
      "cell_type": "markdown",
      "source": [
        "Escribir un programa que pida la nota de un examen (0-10), e imprima por pantalla la calificacion en formato: \"Suspenso\" si la nota es menor a 5 \"Aprobado\" si es entre 5 inclusive, y 7 sin incluir, \"Notable\" si esta entre 7 inclusive y 9 sin incluir, \"Sobresaliente\" si esta entre 9 inclusive y 10 sin incluir, y\"Honorable\" si es 10"
      ],
      "metadata": {
        "id": "l8EgsxKkkEgp"
      }
    },
    {
      "cell_type": "code",
      "source": [
        "def obtener_calificacion(nota):\n",
        "    if nota < 5:\n",
        "        return \"Reprobo\"\n",
        "    elif 5 <= nota < 7:\n",
        "\n",
        "        return \"Bien\"\n",
        "    elif 7 <= nota < 9:\n",
        "\n",
        "        return \"Muy Bien\"\n",
        "    elif 9 <= nota < 10:\n",
        "\n",
        "        return \"Muy bien\"\n",
        "    elif nota == 10:\n",
        "\n",
        "        return \"Exelente\"\n",
        "    else:\n",
        "        return \"Nota inválida\"\n",
        "\n",
        "try:\n",
        "    nota = float(input(\"Ingrese la nota del examen (0-10): \"))\n",
        "    if 0 <= nota <= 10:\n",
        "\n",
        "        calificacion = obtener_calificacion(nota)\n",
        "        print(f\"Calificación: {calificacion}\")\n",
        "\n",
        "    else:\n",
        "        print(\"Por favor, ingrese una nota válida entre 0 y 10.\")\n",
        "\n",
        "except ValueError:\n",
        "    print(\"Por favor, ingrese una nota válida numérica.\")"
      ],
      "metadata": {
        "id": "LUWElriakFbQ"
      },
      "execution_count": null,
      "outputs": []
    },
    {
      "cell_type": "markdown",
      "source": [
        "Escriba un programa que muestre la secuencia fibonacci"
      ],
      "metadata": {
        "id": "Fv-EHQLAkTRl"
      }
    },
    {
      "cell_type": "code",
      "source": [
        "limit = int(input(\"Limit: \"))\n",
        "a=0\n",
        "b=1\n",
        "c=0\n",
        "while c<limit:\n",
        "  c=a+b\n",
        "  print(a, \"+\",b,\"=\", c)\n",
        "  b=a\n",
        "  a=c"
      ],
      "metadata": {
        "id": "o3SQGUlKkUOz"
      },
      "execution_count": null,
      "outputs": []
    },
    {
      "cell_type": "code",
      "source": [
        "edad = int(input(\"Edad: \"))\n",
        "\n",
        "if edad<=2:\n",
        "  print(\"soy un bebe\")\n",
        "elif edad<=11:\n",
        "  print(\"Soy un niño\")\n",
        "elif edad<18:\n",
        "  print(\"Soy un adolescente\")\n",
        "elif edad<=65:\n",
        "  print(\"soy mayor de edad\")\n",
        "elif edad<=85:\n",
        "  print(\"Soy un adulto mayor\")\n",
        "else:\n",
        "  print(\"Larga vida\")"
      ],
      "metadata": {
        "id": "pnd7nAZWkvE0"
      },
      "execution_count": null,
      "outputs": []
    },
    {
      "cell_type": "code",
      "source": [
        "lista = [5,8,9,15,7,9,2,3, 2, 1]"
      ],
      "metadata": {
        "id": "vqUnH3avk51r"
      },
      "execution_count": null,
      "outputs": []
    },
    {
      "cell_type": "code",
      "source": [
        "mayor = 0\n",
        "for num in lista:\n",
        "  if num>mayor:\n",
        "    mayor = num\n",
        "print(\"EL numero mayor de la lista: \", lista, \"es: \", mayor)"
      ],
      "metadata": {
        "id": "YrDHD6BUk7Df"
      },
      "execution_count": null,
      "outputs": []
    },
    {
      "cell_type": "code",
      "source": [
        "mayor = 0\n",
        "i=0\n",
        "n=len(lista)\n",
        "while i<n:\n",
        "  if lista[i]>mayor:\n",
        "    mayor = lista[i]\n",
        "  i+=1\n",
        "print(mayor)"
      ],
      "metadata": {
        "id": "mvNwOwLflCRr"
      },
      "execution_count": null,
      "outputs": []
    },
    {
      "cell_type": "markdown",
      "source": [
        "1. **Escriba un programa que encuentre la media aritmetica de una serie de numeros introducidos por el usuario**\n",
        "2. **Escriba un programa que determine si una palabra introducida por el usuario es palindrome o no, ejm. de palabras palindrome: Ana, oso, oro, etc.**\n",
        "3. Escriba un programa que convierta un numero instroducido por el usuario a su equivalente en numeros romanos. Ejm: 5 -> V"
      ],
      "metadata": {
        "id": "W9O1vz9YlRfg"
      }
    },
    {
      "cell_type": "markdown",
      "source": [
        "**PROGRAMACION ORIENTADA A OBJETOS.**\n",
        "\n",
        "* CLASE"
      ],
      "metadata": {
        "id": "GsvTaDCPlZxM"
      }
    },
    {
      "cell_type": "code",
      "source": [
        "class Calculadora:\n",
        "  def sumar(sefl, num1, num2):\n",
        "    return num1 + num2"
      ],
      "metadata": {
        "id": "xzo2-a90lSfM"
      },
      "execution_count": null,
      "outputs": []
    },
    {
      "cell_type": "markdown",
      "source": [
        "* OBJETO"
      ],
      "metadata": {
        "id": "pr_vqTv9lsHa"
      }
    },
    {
      "cell_type": "code",
      "source": [
        "objCalculadora = Calculadora()"
      ],
      "metadata": {
        "id": "K5EARQ5_ltgp"
      },
      "execution_count": null,
      "outputs": []
    },
    {
      "cell_type": "markdown",
      "source": [
        "Tarea de bloque 1"
      ],
      "metadata": {
        "id": "2z-s43-gWlvw"
      }
    },
    {
      "cell_type": "markdown",
      "source": [
        "Calculo de metros"
      ],
      "metadata": {
        "id": "S39fd0uhXfyh"
      }
    },
    {
      "cell_type": "code",
      "source": [
        "def calcular_valor_agua(metros_consumidos):\n",
        "    cuota_fija = 6\n",
        "\n",
        "    if metros_consumidos <= 18:\n",
        "        valor_pagar = cuota_fija\n",
        "    elif metros_consumidos <= 28:\n",
        "        exceso_18 = metros_consumidos - 18\n",
        "        valor_exceso_18 = exceso_18 * 0.45\n",
        "        valor_pagar = cuota_fija + valor_exceso_18\n",
        "    else:\n",
        "        exceso_28 = metros_consumidos - 28\n",
        "        valor_exceso_28 = exceso_28 * 0.65\n",
        "        valor_exceso_18 = (28 - 18) * 0.45\n",
        "        valor_pagar = cuota_fija + valor_exceso_18 + valor_exceso_28\n",
        "\n",
        "    return valor_pagar\n",
        "\n",
        "metros_consumidos = int(input(\"Ingrese el número de metros consumidos: \"))\n",
        "valor_pagar = calcular_valor_agua(metros_consumidos)\n",
        "print(f\"El valor a pagar es: ${valor_pagar:.2f}\")\n"
      ],
      "metadata": {
        "id": "YbQ_OV_mWtOs"
      },
      "execution_count": null,
      "outputs": []
    },
    {
      "cell_type": "markdown",
      "source": [
        "Desarrolle la tabla de meses acumulados a n meses"
      ],
      "metadata": {
        "id": "lDzQcFukXouD"
      }
    },
    {
      "cell_type": "code",
      "source": [
        "def tabla_de_meses_acumulados(n):\n",
        "    tabla = [(mes, mes * (mes + 1) // 2, (mes - 1) * mes // 2) for mes in range(1, n + 1)]\n",
        "    return tabla\n",
        "\n",
        "def mostrar_tabla(tabla):\n",
        "    print(\"{:<6}      {:<12}\".format(\"MESES\", \"ACUMULACION\"))\n",
        "    print(\"---------------------------\")\n",
        "    for fila in tabla:\n",
        "        print(\"{:<2}       {} + {} = {}\".format(fila[0], fila[0], fila[2], fila[1]))\n",
        "\n",
        "n_meses = int(input(\"Coloca el número de meses para generar la tabla: \"))\n",
        "tabla_meses_acumulados = tabla_de_meses_acumulados(n_meses)\n",
        "mostrar_tabla(tabla_meses_acumulados)\n"
      ],
      "metadata": {
        "id": "aOxSzS-hXr5A"
      },
      "execution_count": null,
      "outputs": []
    },
    {
      "cell_type": "markdown",
      "source": [
        "Conversor"
      ],
      "metadata": {
        "id": "DdBurMWZXvkS"
      }
    },
    {
      "cell_type": "code",
      "source": [
        "def convertir_monedas():\n",
        "    monedas = {\n",
        "        \"Dolares\": 1.0,\n",
        "        \"Euros\": 0.93,\n",
        "        \"Yenes\": 145.83,\n",
        "        \"Libra esterlina\": 0.79,\n",
        "        \"Dolar australiano\": 1.56,\n",
        "        \"Dolar canadiense\": 1.36,\n",
        "        \"Franco suizo\": 0.88,\n",
        "        \"Renminbi\": 7.28,\n",
        "        \"Rupia india\": 82.59,\n",
        "        \"Peso mexicano\": 16.83\n",
        "    }\n",
        "\n",
        "    print(\"Opciones de monedas:\")\n",
        "    for i, moneda in enumerate(monedas.keys(), start=1):\n",
        "        print(f\"{i}. {moneda}\")\n",
        "\n",
        "    opcion_origen = int(input(\"Seleccione la moneda de origen (1-10): \"))\n",
        "    opcion_destino = int(input(\"Seleccione la moneda de destino (1-10): \"))\n",
        "    cantidad = float(input(\"Ingrese la cantidad a convertir: \"))\n",
        "\n",
        "    moneda_origen = list(monedas.keys())[opcion_origen - 1]\n",
        "    moneda_destino = list(monedas.keys())[opcion_destino - 1]\n",
        "\n",
        "    conversion = cantidad * (monedas[moneda_destino] / monedas[moneda_origen])\n",
        "    print(f\"{cantidad} {moneda_origen} son aproximadamente {conversion:.2f} {moneda_destino}\")\n",
        "\n",
        "def convertir_longitud():\n",
        "    unidades_longitud = {\n",
        "        \"metros\": 1.0,\n",
        "        \"pulgadas\": 39.37,\n",
        "        \"pies\": 3.28,\n",
        "        \"centímetros\": 100,\n",
        "        \"millas\": 0.00062,\n",
        "        \"kilómetros\": 0.001,\n",
        "        \"yardas\": 1.09,\n",
        "        \"millímetros\": 1000,\n",
        "        \"micrómetros\": 1000000,\n",
        "        \"nanómetros\": 1000000000\n",
        "         }\n",
        "\n",
        "    print(\"Opciones de unidades de longitud:\")\n",
        "    for i, unidad in enumerate(unidades_longitud.keys(), start=1):\n",
        "        print(f\"{i}. {unidad}\")\n",
        "\n",
        "    opcion_origen = int(input(\"Seleccione la unidad de origen (1-10): \"))\n",
        "    opcion_destino = int(input(\"Seleccione la unidad de destino (1-10): \"))\n",
        "    longitud = float(input(\"Ingrese la longitud a convertir: \"))\n",
        "\n",
        "    unidad_origen = list(unidades_longitud.keys())[opcion_origen - 1]\n",
        "    unidad_destino = list(unidades_longitud.keys())[opcion_destino - 1]\n",
        "\n",
        "    conversion = longitud * (unidades_longitud[unidad_destino] / unidades_longitud[unidad_origen])\n",
        "    print(f\"{longitud} {unidad_origen} son aproximadamente {conversion:.2f} {unidad_destino}\")\n",
        "\n",
        "def convertir_masa():\n",
        "    unidades_masa = {\n",
        "        \"kilogramos\": 1.0,\n",
        "        \"gramos\": 1000,\n",
        "        \"miligramos\": 1000000,\n",
        "        \"toneladas\": 0.001,\n",
        "        \"onzas\": 35.27,\n",
        "        \"libras\": 2.20,\n",
        "        \"microgramos\": 1000000000,\n",
        "        \"stone\": 0.16,\n",
        "        \"quintales\": 0.01,\n",
        "        \"toneladas_cortas\": 0.0011\n",
        "    }\n",
        "\n",
        "    print(\"Opciones de unidades de masa:\")\n",
        "    for i, unidad in enumerate(unidades_masa.keys(), start=1):\n",
        "        print(f\"{i}. {unidad}\")\n",
        "\n",
        "    opcion_origen = int(input(\"Seleccione la unidad de origen (1-10): \"))\n",
        "    opcion_destino = int(input(\"Seleccione la unidad de destino (1-10): \"))\n",
        "    masa = float(input(\"Ingrese la masa a convertir: \"))\n",
        "\n",
        "    unidad_origen = list(unidades_masa.keys())[opcion_origen - 1]\n",
        "    unidad_destino = list(unidades_masa.keys())[opcion_destino - 1]\n",
        "\n",
        "    conversion = masa * (unidades_masa[unidad_destino] / unidades_masa[unidad_origen])\n",
        "    print(f\"{masa} {unidad_origen} son aproximadamente {conversion:.2f} {unidad_destino}\")\n",
        "\n",
        "def convertir_almacenamiento():\n",
        "    almacenamientos = {\n",
        "        \"Bit\": 1,\n",
        "    \"Kilobit\": 0.001,\n",
        "    \"Megabit\": 0.000001,\n",
        "    \"Gigabit\": 0.000000001,\n",
        "    \"Byte\": 0.125,\n",
        "    \"Kilobyte\": 0.000125,\n",
        "    \"Megabyte\": 0.000000125,\n",
        "    \"Gigabyte\": 0.000000000125,\n",
        "    \"Terabyte\": 1.25e-13,\n",
        "    \"Petabyte\": 1.25e-16\n",
        "\n",
        "      }\n",
        "\n",
        "    print(\"Opciones de almacenamiento:\")\n",
        "    for i, almacenamiento in enumerate(almacenamientos.keys(), start=1):\n",
        "        print(f\"{i}. {almacenamiento}\")\n",
        "\n",
        "    opcion_origen = int(input(\"Seleccione el dato de almacenamiento de origen (1-10): \"))\n",
        "    opcion_destino = int(input(\"Seleccione el dato de almacenamiento de destino (1-10): \"))\n",
        "    cantidad = float(input(\"Ingrese la cantidad a convertir: \"))\n",
        "\n",
        "    almacenamiento_origen = list(almacenamientos.keys())[opcion_origen - 1]\n",
        "    almacenamiento_destino = list(almacenamientos.keys())[opcion_destino - 1]\n",
        "\n",
        "    conversion = cantidad * (almacenamientos[almacenamiento_destino] / almacenamientos[almacenamiento_origen])\n",
        "    print(f\"{cantidad} {almacenamiento_origen} son aproximadamente {conversion:.16f} {almacenamiento_destino}\")\n",
        "\n",
        "def convertir_tiempo():\n",
        "    unidades_tiempo = {\n",
        "    \"Milisegundos\": 1,\n",
        "    \"Segundos\": 0.001,\n",
        "    \"Minutos\": 1.6667e-5,\n",
        "    \"Horas\": 2.7778e-7,\n",
        "    \"Dias\": 1.1574e-8,\n",
        "    \"Semanas\": 1.6534e-9,\n",
        "    \"Mes\": 3.8052e-10,\n",
        "    \"Años\": 3.171e-11,\n",
        "    \"Decadas\": 3.171e-12,\n",
        "    \"Siglos\": 3.171e-13\n",
        "      }\n",
        "\n",
        "    print(\"Opciones de tiempo:\")\n",
        "    for i, tiempo in enumerate(unidades_tiempo.keys(), start=1):\n",
        "        print(f\"{i}. {tiempo}\")\n",
        "\n",
        "    opcion_origen = int(input(\"Seleccione el tiempo de origen (1-10): \"))\n",
        "    opcion_destino = int(input(\"Seleccione el tiempo de destino (1-10): \"))\n",
        "    cantidad = float(input(\"Ingrese la cantidad a convertir: \"))\n",
        "\n",
        "    tiempo_origen = list(unidades_tiempo.keys())[opcion_origen - 1]\n",
        "    tiempo_destino = list(unidades_tiempo.keys())[opcion_destino - 1]\n",
        "\n",
        "    conversion = cantidad * (unidades_tiempo[tiempo_destino] / unidades_tiempo[tiempo_origen])\n",
        "    print(f\"{cantidad} {tiempo_origen} son aproximadamente {conversion:.16f} {tiempo_destino}\")\n",
        "\n",
        "def convertir_volumen():\n",
        "    unidades_volumen = {\n",
        "    \"Litro\": 1,\n",
        "    \"Galón estadounidense\": 0.264172,\n",
        "    \"Cuarto estadounidense\": 1.05669,\n",
        "    \"Pinta estadounidense\": 2.11338,\n",
        "    \"Taza americana oficial\": 4.16667,\n",
        "    \"Onza liquida estadounidense\": 33.814,\n",
        "    \"Metro cúbico\": 0.001,\n",
        "    \"Mililitro\": 1000,\n",
        "    \"Pie cúbico\": 0.0353147,\n",
        "    \"Pulgada cúbica\": 61.0237\n",
        "      }\n",
        "\n",
        "    print(\"Opciones de volumen:\")\n",
        "    for i, volumen in enumerate(unidades_volumen.keys(), start=1):\n",
        "        print(f\"{i}. {volumen}\")\n",
        "\n",
        "    opcion_origen = int(input(\"Seleccione el dato de volumen de origen (1-10): \"))\n",
        "    opcion_destino = int(input(\"Seleccione el dato de volumen de destino (1-10): \"))\n",
        "    cantidad = float(input(\"Ingrese la cantidad a convertir: \"))\n",
        "\n",
        "    volumen_origen = list(unidades_volumen.keys())[opcion_origen - 1]\n",
        "    volumen_destino = list(unidades_volumen.keys())[opcion_destino - 1]\n",
        "\n",
        "    conversion = cantidad * (unidades_volumen[volumen_destino] / unidades_volumen[volumen_origen])\n",
        "    print(f\"{cantidad} {volumen_origen} son aproximadamente {conversion:.7f} {volumen_destino}\")\n",
        "\n",
        "def convertir_area():\n",
        "    unidades_area = {\n",
        "    \"Metro cuadrado\": 1,\n",
        "    \"Pie cuadrado\": 10.7639,\n",
        "    \"Hectárea\": 0.0001,\n",
        "    \"Acre\": 0.000247105,\n",
        "    \"Kilómetro cuadrado\": 0.000001,\n",
        "    \"Milla cuadrada\": 3.861e-7,\n",
        "    \"Yarda cuadrada\": 1.19599,\n",
        "    \"Centímetro cuadrado\": 10000,\n",
        "      }\n",
        "\n",
        "    print(\"Opciones de área:\")\n",
        "    for i, area in enumerate(unidades_area.keys(), start=1):\n",
        "        print(f\"{i}. {area}\")\n",
        "\n",
        "    opcion_origen = int(input(\"Seleccione el dato de área de origen (1-10): \"))\n",
        "    opcion_destino = int(input(\"Seleccione el dato de área de destino (1-10): \"))\n",
        "    cantidad = float(input(\"Ingrese la cantidad a convertir: \"))\n",
        "\n",
        "    area_origen = list(unidades_area.keys())[opcion_origen - 1]\n",
        "    area_destino = list(unidades_area.keys())[opcion_destino - 1]\n",
        "\n",
        "    conversion = cantidad * (unidades_area[area_destino] / unidades_area[area_origen])\n",
        "    print(f\"{cantidad} {area_origen} son aproximadamente {conversion:.10f} {area_destino}\")\n",
        "\n",
        "\n",
        "def main():\n",
        "    print(\"Conversor de Unidades\")\n",
        "    print(\"1. Convertir Monedas\")\n",
        "    print(\"2. Convertir Longitud\")\n",
        "    print(\"3. Convertir Masa\")\n",
        "    print(\"4. Convertir Almacenamiento\")\n",
        "    print(\"5. Convertir Tiempo\")\n",
        "    print(\"6. Convertir Volumen\")\n",
        "    print(\"7. Convertir Área\")\n",
        "\n",
        "    opcion_principal = int(input(\"Seleccione una opción (1-7): \"))\n",
        "\n",
        "    if opcion_principal == 1:\n",
        "        convertir_monedas()\n",
        "    elif opcion_principal == 2:\n",
        "        convertir_longitud()\n",
        "    elif opcion_principal == 3:\n",
        "        convertir_masa()\n",
        "    elif opcion_principal == 4:\n",
        "        convertir_almacenamiento()\n",
        "    elif opcion_principal == 5:\n",
        "        convertir_tiempo()\n",
        "    elif opcion_principal == 6:\n",
        "        convertir_volumen()\n",
        "    elif opcion_principal == 7:\n",
        "        convertir_area()\n",
        "    else:\n",
        "        print(\"Opción no válida\")\n",
        "\n",
        "if __name__ == \"__main__\":\n",
        "    main()"
      ],
      "metadata": {
        "id": "UCqtV1s5X2Dy"
      },
      "execution_count": null,
      "outputs": []
    },
    {
      "cell_type": "markdown",
      "source": [
        "**Calcular sobre el sueldo las deducciones por ley ISSS (3%), AFP(6.25%), ISR(Según tabla) e imprima el total deducciones\n",
        "y sueldo neto. (20%)**"
      ],
      "metadata": {
        "id": "XSRmvIjuYm2B"
      }
    },
    {
      "cell_type": "code",
      "source": [
        "def sueldo(numHrs, valorXhr):\n",
        "  sueldo = numHrs*valorXhr*30\n",
        "  if(numHrs>8):\n",
        "    sueldo += (numHrs-8)*valorXhr*2*30\n",
        "  #isss + afp = 3 + 6.25 = 9.25 = 100 - 9.25 = 90.75/100 = 0.9075\n",
        "  sueldo = sueldo*0.9075\n",
        "  return sueldo"
      ],
      "metadata": {
        "id": "3V7BZMhpYxkK"
      },
      "execution_count": null,
      "outputs": []
    },
    {
      "cell_type": "code",
      "source": [
        "tabla_isr = [\n",
        "    [0.01, 472, 0, 0],\n",
        "    [472.01, 895.24, 0.1, 17.67],\n",
        "    [895.25, 2038.1, 0.2, 60.00],\n",
        "    [2038.11,9999999, 0.3, 288.57]\n",
        "]"
      ],
      "metadata": {
        "id": "oyeM2JMtPHwr"
      },
      "execution_count": null,
      "outputs": []
    },
    {
      "cell_type": "code",
      "source": [
        "def calcularIsr(sueldo, sueldoNeto):\n",
        "  impSr = 0\n",
        "  for tramo in tabla_isr:\n",
        "    if sueldo>tramo[0] and sueldo<=tramo[1]:\n",
        "      impSr = (sueldoNeto-tramo[0])*tramo[2] + tramo[3]\n",
        "  return impSr"
      ],
      "metadata": {
        "id": "M1m_XK6HPK8Q"
      },
      "execution_count": null,
      "outputs": []
    },
    {
      "cell_type": "code",
      "source": [
        "valorXhr = 4\n",
        "#isss = 3%\n",
        "#afp = 6.25%\n",
        "numHrs = float(input(\"Horas trabajadas: \"))\n",
        "s = sueldo(numHrs, valorXhr)\n",
        "isr = calcularIsr(s, s*0.9075)\n",
        "print( \"Sueldo: \", sueldo(numHrs, valorXhr))\n",
        "print( \"ISR: \", isr, s*0.9075-isr )"
      ],
      "metadata": {
        "colab": {
          "base_uri": "https://localhost:8080/"
        },
        "id": "9CjVwIFXPOoV",
        "outputId": "2d721cd1-051e-454e-8d89-af107baf04d5"
      },
      "execution_count": null,
      "outputs": [
        {
          "output_type": "stream",
          "name": "stdout",
          "text": [
            "Horas trabajadas: 12\n",
            "Sueldo:  2178.0\n",
            "ISR:  270.09749999999997 1706.4375\n"
          ]
        }
      ]
    },
    {
      "cell_type": "markdown",
      "source": [
        "\"**Examen parcial**\n",
        "Conversor"
      ],
      "metadata": {
        "id": "KWMpSk5iTdxD"
      }
    },
    {
      "cell_type": "code",
      "source": [
        "def pies_cuadrados_a_varas_cuadradas(pies_cuadrados):\n",
        "    return pies_cuadrados / 1.19599\n",
        "\n",
        "def pies_cuadrados_a_yardas_cuadradas(pies_cuadrados):\n",
        "    return pies_cuadrados / 9.0\n",
        "\n",
        "def pies_cuadrados_a_metros_cuadrados(pies_cuadrados):\n",
        "    return pies_cuadrados / 10.7639\n",
        "\n",
        "def metros_cuadrados_a_tareas(metros_cuadrados):\n",
        "    return metros_cuadrados / 4046.86\n",
        "\n",
        "def metros_cuadrados_a_manzanas(metros_cuadrados):\n",
        "    return metros_cuadrados / 10000.0\n",
        "\n",
        "def metros_cuadrados_a_hectareas(metros_cuadrados):\n",
        "    return metros_cuadrados / 10000.0\n",
        "\n",
        "# Menú de opciones\n",
        "while True:\n",
        "    print(\"1. Pies cuadrados a Varas cuadradas\")\n",
        "    print(\"2. Pies cuadrados a Yardas cuadradas\")\n",
        "    print(\"3. Pies cuadrados a Metros cuadrados\")\n",
        "    print(\"4. Metros cuadrados a Tareas\")\n",
        "    print(\"5. Metros cuadrados a Manzanas\")\n",
        "    print(\"6. Metros cuadrados a Hectáreas\")\n",
        "    print(\"7. Salir\")\n",
        "\n",
        "    opcion = int(input(\"Selecciona una opción: \"))\n",
        "\n",
        "    if opcion == 7:\n",
        "        break\n",
        "\n",
        "    valor = float(input(\"Ingresa el valor del área: \"))\n",
        "\n",
        "    if opcion == 1:\n",
        "        resultado = pies_cuadrados_a_varas_cuadradas(valor)\n",
        "        print(f\"{valor} pies cuadrados son {resultado} varas cuadradas\")\n",
        "    elif opcion == 2:\n",
        "        resultado = pies_cuadrados_a_yardas_cuadradas(valor)\n",
        "        print(f\"{valor} pies cuadrados son {resultado} yardas cuadradas\")\n",
        "    elif opcion == 3:\n",
        "        resultado = pies_cuadrados_a_metros_cuadrados(valor)\n",
        "        print(f\"{valor} pies cuadrados son {resultado} metros cuadrados\")\n",
        "    elif opcion == 4:\n",
        "        resultado = metros_cuadrados_a_tareas(valor)\n",
        "        print(f\"{valor} metros cuadrados son {resultado} tareas\")\n",
        "    elif opcion == 5:\n",
        "        resultado = metros_cuadrados_a_manzanas(valor)\n",
        "        print(f\"{valor} metros cuadrados son {resultado} manzanas\")\n",
        "    elif opcion == 6:\n",
        "        resultado = metros_cuadrados_a_hectareas(valor)\n",
        "        print(f\"{valor} metros cuadrados son {resultado} hectáreas\")\n",
        "    else:\n",
        "        print(\"Opción no válida. Por favor, selecciona una opción válida.\")"
      ],
      "metadata": {
        "id": "_58mDIsTT3_-"
      },
      "execution_count": null,
      "outputs": []
    }
  ]
}